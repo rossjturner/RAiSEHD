{
 "cells": [
  {
   "cell_type": "markdown",
   "id": "6964451a",
   "metadata": {},
   "source": [
    "## RAiSE HD: Lagrangian particle-based radio AGN model"
   ]
  },
  {
   "cell_type": "markdown",
   "id": "03f9c94e",
   "metadata": {},
   "source": [
    "#### Running a singular simulation"
   ]
  },
  {
   "cell_type": "markdown",
   "id": "f9e6f187",
   "metadata": {},
   "source": [
    "Simulation of a radio AGN observed at 1.4GHz, jet power of 10^38.8, redshift of 0.1, axis ratio of 2.8, source ages of 7 and 8 log years and halo mass of 13.5 log solar masses.\n",
    "This is giving the average observed gas density profile of the 13 clusters observed by Vikhlinin et al. (2006)."
   ]
  },
  {
   "cell_type": "code",
   "execution_count": null,
   "id": "38214834",
   "metadata": {},
   "outputs": [],
   "source": [
    "from RAiSEHD import RAiSEHD as RAiSE"
   ]
  },
  {
   "cell_type": "code",
   "execution_count": null,
   "id": "06c0e738",
   "metadata": {},
   "outputs": [],
   "source": [
    "RAiSE.RAiSE_run(9.146, 0.1, 2.8, 38.8, [7,8], halo_mass=13.5, brightness=False, resolution=None)"
   ]
  },
  {
   "cell_type": "markdown",
   "id": "09a61709",
   "metadata": {},
   "source": [
    "Can be found as .csv file in LDTracks folder. Lists of parameters may be chosen, or singule values. \n",
    "File will have letter to represent parameters to easily locate file needed. H, halo mass, Q, jet power and z, redshift. If brightness is set to 'FALSE,' no luminosity map or brightness scale will be included in simulation."
   ]
  },
  {
   "cell_type": "markdown",
   "id": "47964e2a",
   "metadata": {},
   "source": [
    "#### Custom environment "
   ]
  },
  {
   "cell_type": "markdown",
   "id": "72495815",
   "metadata": {},
   "source": [
    "To instead simulate a custom gas density profile, halo mass is no longer required, and instead values for random profile, rho0Value, betas, regions and temperature must be specified. "
   ]
  },
  {
   "cell_type": "code",
   "execution_count": null,
   "id": "5705ac91",
   "metadata": {},
   "outputs": [],
   "source": [
    "RAiSE.RAiSE_run(9.146, 0.1, 2.8, 38.8, [7,8], rho0Value=1e-23, betas=[1,1.9], regions=[1*3.086e19,100*3.086e19], temperature=1e7, brightness=False, resolution=None)"
   ]
  },
  {
   "cell_type": "markdown",
   "id": "e2c60750",
   "metadata": {},
   "source": [
    "#### Creating a surface brightess map"
   ]
  },
  {
   "cell_type": "markdown",
   "id": "98ba7684",
   "metadata": {},
   "source": [
    "Generating a surface brightness image. Resolution options of 'best,' 'high,' 'standard' and 'poor.' These resolutions correspond to 114 688 000, 28 672 000, 7 168 000 and 1 792 000 particles respectively."
   ]
  },
  {
   "cell_type": "code",
   "execution_count": null,
   "id": "1e22b0d7",
   "metadata": {},
   "outputs": [],
   "source": [
    "RAiSE.RAiSE_run(9.146, 0.1, 2.8, 38.8, 7, halo_mass=13.5, resolution='high')"
   ]
  },
  {
   "cell_type": "markdown",
   "id": "6d752bd1",
   "metadata": {},
   "source": [
    "Can be found in LDTracks folder. Horizontally will show values from minor axis (kpc) and vertically the grid will show values from the jet axis (kpc). Data values will represent the brightness of pixels in units of Watts per Hertz. "
   ]
  },
  {
   "cell_type": "markdown",
   "id": "b9ca7bac",
   "metadata": {},
   "source": [
    "#### Running a grid for paramter lists"
   ]
  },
  {
   "cell_type": "markdown",
   "id": "9ae3a96b",
   "metadata": {},
   "source": [
    "Parallelised code that is generating evolutionary tracks or surface brightness images. Any of the parameters defined in the above pages as lists or arrays can be used here. "
   ]
  },
  {
   "cell_type": "code",
   "execution_count": null,
   "id": "39aa247e",
   "metadata": {},
   "outputs": [],
   "source": [
    "RAiSE.RAiSE_run(9.146, [0.1,0.5,1], 2.8, [38,39,40], 7.5, halo_mass=13.5, brightness=True)"
   ]
  },
  {
   "cell_type": "markdown",
   "id": "51d637e3",
   "metadata": {},
   "source": [
    "#### Plotting luminosity maps"
   ]
  },
  {
   "cell_type": "code",
   "execution_count": null,
   "id": "19b9d185",
   "metadata": {},
   "outputs": [],
   "source": [
    "fig1 = RAiSE.RAiSE_evolution_maps(8.146, 0.1, 2.8, 38.8, 7.5, jet_lorentz=5, halo_mass=13.5, rerun=False)"
   ]
  },
  {
   "cell_type": "markdown",
   "id": "46aa689a",
   "metadata": {},
   "source": [
    "When rerun = False, and the same simulation has be conducted, it will take significantly less time as it has already run and will not need to try and redo the code."
   ]
  },
  {
   "cell_type": "markdown",
   "id": "33f5b2fb",
   "metadata": {},
   "source": [
    "#### Plotting evolutionary tracks"
   ]
  },
  {
   "cell_type": "markdown",
   "id": "c2739f4b",
   "metadata": {},
   "source": [
    "Must input multiple source ages. This example uses singular parameter inputs for the rest. Input rerun = True to over right any existing evolutionary tracks file for this set of parameters."
   ]
  },
  {
   "cell_type": "code",
   "execution_count": null,
   "id": "5124e03d",
   "metadata": {},
   "outputs": [],
   "source": [
    "import numpy as np"
   ]
  },
  {
   "cell_type": "code",
   "execution_count": null,
   "id": "60149d1f",
   "metadata": {},
   "outputs": [],
   "source": [
    "RAiSE.RAiSE_evolution_tracks(9.146, 0.1, 2.8, 38.8, np.arange(6,8.5,0.1), jet_lorentz=5, halo_mass=13.5, resolution='poor', rerun=True)"
   ]
  },
  {
   "cell_type": "markdown",
   "id": "0c70185e",
   "metadata": {},
   "source": [
    "This example uses multiple jet powers."
   ]
  },
  {
   "cell_type": "code",
   "execution_count": null,
   "id": "ab3951c3",
   "metadata": {},
   "outputs": [],
   "source": [
    "fig=RAiSE.RAiSE_evolution_tracks(9.146, 0.1, 2.8, [38,39], np.arange(6,8.5,0.1), jet_lorentz=5, halo_mass=13.5, rerun=True, resolution='poor', labels=['$Q=10^{38}$ W','$Q=10^{39}$ W'], colors=['purple','green'], linestyles = ['--',':'])"
   ]
  },
  {
   "cell_type": "markdown",
   "id": "9300d38c",
   "metadata": {},
   "source": [
    " When using multiple jet powers, labels for each are useful to distingusih between the two. Colours are also able to be altered, using a list of colors defines each jet power to have those colours, linestyles are also similar, they can be altered and listed."
   ]
  }
 ],
 "metadata": {
  "kernelspec": {
   "display_name": "Python 3 (ipykernel)",
   "language": "python",
   "name": "python3"
  },
  "language_info": {
   "codemirror_mode": {
    "name": "ipython",
    "version": 3
   },
   "file_extension": ".py",
   "mimetype": "text/x-python",
   "name": "python",
   "nbconvert_exporter": "python",
   "pygments_lexer": "ipython3",
   "version": "3.10.11"
  }
 },
 "nbformat": 4,
 "nbformat_minor": 5
}
