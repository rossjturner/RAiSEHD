{
 "cells": [
  {
   "cell_type": "markdown",
   "metadata": {},
   "source": [
    "## RAiSE HD: Lagrangian particle-based radio AGN model"
   ]
  },
  {
   "cell_type": "markdown",
   "metadata": {},
   "source": [
    "#### Running a singular simulation"
   ]
  },
  {
   "cell_type": "markdown",
   "metadata": {},
   "source": [
    "Simulation of a radio AGN observed at 1.4GHz, jet power of 10^38.8, redshift of 0.1, axis ratio of 2.8, source ages of 7 and 8 log years and halo mass of 13.5 log solar masses.\n",
    "This is giving the average observed gas density profile of the 13 clusters observed by Vikhlinin et al. (2006)."
   ]
  },
  {
   "cell_type": "code",
   "execution_count": null,
   "metadata": {},
   "outputs": [],
   "source": [
    "from RAiSEHD import RAiSEHD as RAiSE"
   ]
  },
  {
   "cell_type": "code",
   "execution_count": null,
   "metadata": {},
   "outputs": [],
   "source": [
    "RAiSE.RAiSE_run(9.146, 0.1, 2.8, 38.8, [7,8], halo_mass=13.5, brightness=False,)"
   ]
  },
  {
   "cell_type": "markdown",
   "metadata": {},
   "source": [
    "Can be found as .csv file in LDTracks folder. Lists of parameters may be chosen, or singule values. \n",
    "File will have letter to represent parameters to easily locate file needed. H, halo mass, Q, jet power and z, redshift. If brightness is set to 'FALSE,' no luminosity map or brightness scale will be included in simulation."
   ]
  },
  {
   "cell_type": "markdown",
   "metadata": {},
   "source": [
    "#### Custom environment "
   ]
  },
  {
   "cell_type": "markdown",
   "metadata": {},
   "source": [
    "To instead simulate a custom gas density profile, halo mass is no longer required, and instead values for random profile, rho0Value, betas, regions and temperature must be specified. "
   ]
  },
  {
   "cell_type": "code",
   "execution_count": null,
   "metadata": {
    "scrolled": false
   },
   "outputs": [],
   "source": [
    "RAiSE.RAiSE_run(9.146, 0.1, 2.8, 38.8, [7,8], rho0Value=1e-23, betas=[1,1.9] regions=[1,100] temperature=1e7, brighness= False)\n"
   ]
  },
  {
   "cell_type": "markdown",
   "metadata": {},
   "source": [
    "#### Creating a surface brightess map"
   ]
  },
  {
   "cell_type": "markdown",
   "metadata": {},
   "source": [
    "Generating a surface brightness image. Resolution options of 'best,' 'high,' 'standard' and 'poor.' These resolutions correspond to 114 688 000, 28 672 000, 7 168 000 and 1 792 000 particles respectively."
   ]
  },
  {
   "cell_type": "code",
   "execution_count": null,
   "metadata": {},
   "outputs": [],
   "source": [
    "RAiSE.RAiSE_run(9.146, 0.1, 2.8, 38.8, 7, halo_mass=13.5, resolution = 'high')"
   ]
  },
  {
   "cell_type": "markdown",
   "metadata": {},
   "source": [
    "Can be found in LDTracks folder. Horizontally will show values from minor axis (kpc) and vertically the grid will show values from the jet axis (kpc). Data values will represent the brightness of pixels in units of Watts per Hertz. "
   ]
  },
  {
   "cell_type": "markdown",
   "metadata": {},
   "source": [
    "#### Running a grid for paramter lists"
   ]
  },
  {
   "cell_type": "markdown",
   "metadata": {},
   "source": [
    "Parallelised code that is generating evolutionary tracks or surface brightness images. Any of the parameters defined in the above pages as lists or arrays can be used here. "
   ]
  },
  {
   "cell_type": "code",
   "execution_count": null,
   "metadata": {},
   "outputs": [],
   "source": [
    "RAiSE.RAiSE_run(9.146, [0.1,0.5,1], 2.8, [38,39,40] , 7.5, halo_mass=13.5, brightness = True)"
   ]
  },
  {
   "cell_type": "markdown",
   "metadata": {},
   "source": [
    "#### Plotting luminosity maps"
   ]
  },
  {
   "cell_type": "code",
   "execution_count": null,
   "metadata": {},
   "outputs": [],
   "source": [
    "fig1 = RAiSE.RAiSE_evolution_maps(8.146, 0.1, 2.8, 38.8, 7.5, jet_lorentz=5, halo_mass=13.5, rerun=False)"
   ]
  },
  {
   "cell_type": "markdown",
   "metadata": {},
   "source": [
    "When rerun = False, and the same simulation has be conducted, it will take significantly less time as it has already run and will not need to try and redo the code."
   ]
  },
  {
   "cell_type": "markdown",
   "metadata": {},
   "source": [
    "#### Plotting evolutionary tracks"
   ]
  },
  {
   "cell_type": "markdown",
   "metadata": {},
   "source": [
    "Must input multiple source ages. This example uses singular parameter inputs for the rest. Input rerun = True to over right any existing evolutionary tracks file for this set of parameters."
   ]
  },
  {
   "cell_type": "code",
   "execution_count": null,
   "metadata": {},
   "outputs": [],
   "source": [
    "import numpy as np"
   ]
  },
  {
   "cell_type": "code",
   "execution_count": null,
   "metadata": {},
   "outputs": [],
   "source": [
    "RAiSE.RAiSE_evolution_tracks(9.146, 0.1, 2.8, 38.8, np.arange(6,8.5,0.1), jet_lorentz=5, halo_mass=13.5, resolution='poor', rerun=True)\n"
   ]
  },
  {
   "cell_type": "markdown",
   "metadata": {},
   "source": [
    "This example uses multiple jet powers."
   ]
  },
  {
   "cell_type": "code",
   "execution_count": null,
   "metadata": {},
   "outputs": [],
   "source": [
    "fig=RAiSE.RAiSE_evolution_tracks(9.146, 0.1, 2.8, [38,39], np.arange(6,8.5,0.1), jet_lorentz=5, halo_mass=13.5, rerun=False, resolution='poor', labels=['$Q=10^{38}$ W','$Q=10^{39}$ W'], colors=['purple','green'], linestyles = ['--',':'])\n"
   ]
  },
  {
   "cell_type": "markdown",
   "metadata": {},
   "source": [
    " When using multiple jet powers, labels for each are useful to distingusih between the two. Colours are also able to be altered, using a list of colors defines each jet power to have those colours, linestyles are also similar, they can be altered and listed."
   ]
  }
 ],
 "metadata": {
  "kernelspec": {
   "display_name": "Python 3",
   "language": "python",
   "name": "python3"
  },
  "language_info": {
   "codemirror_mode": {
    "name": "ipython",
    "version": 3
   },
   "file_extension": ".py",
   "mimetype": "text/x-python",
   "name": "python",
   "nbconvert_exporter": "python",
   "pygments_lexer": "ipython3",
   "version": "3.8.5"
  }
 },
 "nbformat": 4,
 "nbformat_minor": 5
}
